{
 "cells": [
  {
   "cell_type": "code",
   "execution_count": null,
   "id": "24b68812-a108-40a0-95f2-1bb69e4a78a9",
   "metadata": {},
   "outputs": [],
   "source": [
    "#IMPORTS"
   ]
  },
  {
   "cell_type": "code",
   "execution_count": 2,
   "id": "36e47f5a-0167-4838-bb37-9ee0b74c7e38",
   "metadata": {},
   "outputs": [
    {
     "data": {
      "application/vnd.jupyter.widget-view+json": {
       "model_id": "2916c443e56145f48ed67043ee23ac77",
       "version_major": 2,
       "version_minor": 0
      },
      "text/plain": []
     },
     "metadata": {},
     "output_type": "display_data"
    }
   ],
   "source": [
    "import logging\n",
    "import os\n",
    "\n",
    "logging.getLogger(\"numexpr\").setLevel(logging.ERROR)\n",
    "\n",
    "from bravado.client import SwaggerClient\n",
    "from IPython.display import display, Markdown\n",
    "\n",
    "import nglview as nv\n",
    "\n",
    "import opencadd \n",
    "\n",
    "from pathlib import Path\n",
    "import requests\n",
    "\n",
    "import pandas as pd\n",
    "import numpy as np\n",
    "import seaborn as sns\n",
    "import matplotlib as plt\n",
    "import biotite.sequence.align as align\n",
    "\n",
    "from rdkit import Chem\n",
    "from rdkit.Chem.Draw import IPythonConsole, MolsToGridImage\n",
    "from rdkit import Chem\n",
    "from rdkit.Chem import AllChem\n",
    "from rdkit.Chem import Draw\n",
    "from rdkit.Chem.Draw import IPythonConsole\n",
    "from rdkit import RDConfig, Chem, Geometry, DistanceGeometry\n",
    "from rdkit.Chem.Draw import DrawingOptions\n",
    "from rdkit.Chem.Pharm3D import Pharmacophore, EmbedLib\n",
    "from rdkit.Numerics import rdAlignment\n",
    "from rdkit.Chem import (\n",
    "    ChemicalFeatures,\n",
    "    rdDistGeom,\n",
    "    Draw,\n",
    "    rdMolTransforms,\n",
    "    AllChem,\n",
    ")\n",
    "import collections\n",
    "from collections import Counter\n",
    "\n",
    "from Bio.PDB import PDBParser, PDBIO, Select\n",
    "from pathlib import Path\n",
    "import time\n",
    "import warnings\n",
    "\n",
    "warnings.filterwarnings(\"ignore\")\n",
    "\n",
    "import pandas as pd\n",
    "import nglview as nv\n",
    "import openbabel\n",
    "import numpy as np\n",
    "from matplotlib import colors\n",
    "from plip.structure.preparation import PDBComplex\n",
    "from plip.exchange.report import BindingSiteReport\n",
    "\n",
    "from opencadd.structure.core import Structure\n"
   ]
  },
  {
   "cell_type": "code",
   "execution_count": 3,
   "id": "abc1695c-27d9-446c-9441-47027ac21792",
   "metadata": {},
   "outputs": [],
   "source": [
    "#DATA EXTRACTION USING KLIFS PDB API"
   ]
  },
  {
   "cell_type": "code",
   "execution_count": 4,
   "id": "f03b0c19-039d-4e02-b9d5-10a6f4c72cae",
   "metadata": {},
   "outputs": [],
   "source": [
    "HERE = Path(_dh[-1])\n",
    "DATA = HERE / \"data\""
   ]
  },
  {
   "cell_type": "code",
   "execution_count": 5,
   "id": "4114dc12-2df2-4248-b605-4445b652c64f",
   "metadata": {},
   "outputs": [],
   "source": [
    "KLIFS_API_DEFINITIONS = \"https://klifs.net/swagger/swagger.json\"\n",
    "KLIFS_CLIENT = SwaggerClient.from_url(KLIFS_API_DEFINITIONS, config={\"validate_responses\": False})"
   ]
  },
  {
   "cell_type": "code",
   "execution_count": 6,
   "id": "907fb0e4-4837-4026-afa5-954c740d8292",
   "metadata": {},
   "outputs": [
    {
     "data": {
      "text/markdown": [
       "All kinase groups are returned as a list of strings:"
      ],
      "text/plain": [
       "<IPython.core.display.Markdown object>"
      ]
     },
     "metadata": {},
     "output_type": "display_data"
    },
    {
     "name": "stdout",
     "output_type": "stream",
     "text": [
      "['AGC', 'CAMK', 'CK1', 'CMGC', 'Other', 'STE', 'TK', 'TKL']\n"
     ]
    }
   ],
   "source": [
    "kinase_groups = KLIFS_CLIENT.Information.get_kinase_groups().response().result\n",
    "display(Markdown(\"All kinase groups are returned as a list of strings:\"))\n",
    "print(kinase_groups)"
   ]
  },
  {
   "cell_type": "code",
   "execution_count": 7,
   "id": "0135cd36-eefe-43f1-b0ee-abced764f1a6",
   "metadata": {},
   "outputs": [],
   "source": [
    "species = \"Human\"\n",
    "kinase_group = \"AGC\""
   ]
  },
  {
   "cell_type": "code",
   "execution_count": 8,
   "id": "3116dc59-dfa9-4e55-be15-bb8d9385a842",
   "metadata": {},
   "outputs": [
    {
     "data": {
      "text/markdown": [
       "Kinases in the human group AGC as a list of objects that contain kinase-specific information:"
      ],
      "text/plain": [
       "<IPython.core.display.Markdown object>"
      ]
     },
     "metadata": {},
     "output_type": "display_data"
    }
   ],
   "source": [
    "kinases = (\n",
    "    KLIFS_CLIENT.Information.get_kinase_names(kinase_group=kinase_group, species=species)\n",
    "    .response()\n",
    "    .result\n",
    ")\n",
    "display(\n",
    "    Markdown(\n",
    "        f\"Kinases in the human group {kinase_group} as a list of objects \"\n",
    "        f\"that contain kinase-specific information:\"\n",
    "    )\n",
    ")"
   ]
  },
  {
   "cell_type": "code",
   "execution_count": 9,
   "id": "e332d581-ad53-4d0c-82ef-e9a6f3a45715",
   "metadata": {},
   "outputs": [
    {
     "data": {
      "text/plain": [
       "64"
      ]
     },
     "execution_count": 9,
     "metadata": {},
     "output_type": "execute_result"
    }
   ],
   "source": [
    "kinase_klifs_id = []\n",
    "x=0\n",
    "for kinase in kinases:\n",
    "    kinase_klifs_id.append(kinase.kinase_ID)\n",
    "    # display(Markdown(f\"Kinase KLIFS ID for {kinase.name}: {kinase_klifs_id[x]}\"))\n",
    "    x=x+1\n",
    "len(kinase_klifs_id)"
   ]
  },
  {
   "cell_type": "code",
   "execution_count": 10,
   "id": "f29a103a-b2de-4a91-bc2b-b9618950a802",
   "metadata": {},
   "outputs": [],
   "source": [
    "def get_structures(x):\n",
    "    structures = (\n",
    "        KLIFS_CLIENT.Structures.get_structures_list(kinase_ID=[x]).response().result)\n",
    "    # If structures do not contain ligands, the ligand field is set to 0\n",
    "    # structure = next(structure for structure in structures if structure.ligand != 0)\n",
    "    return structures"
   ]
  },
  {
   "cell_type": "code",
   "execution_count": 11,
   "id": "f75b563f-8ebf-4081-a05d-e95c17c82146",
   "metadata": {},
   "outputs": [],
   "source": [
    "structures=[]\n",
    "for x in kinase_klifs_id :\n",
    "    try:\n",
    "        structures.append(get_structures(x))  \n",
    "    except:\n",
    "        pass"
   ]
  },
  {
   "cell_type": "code",
   "execution_count": null,
   "id": "d819eef4-1d52-49ea-a8dc-15ada9fffd44",
   "metadata": {},
   "outputs": [],
   "source": [
    "#SCREENING STRUCTURES FOR QUALITY "
   ]
  },
  {
   "cell_type": "code",
   "execution_count": 12,
   "id": "401b4846-1d3f-4317-992c-d3bec49d900a",
   "metadata": {},
   "outputs": [
    {
     "data": {
      "text/plain": [
       "441"
      ]
     },
     "execution_count": 12,
     "metadata": {},
     "output_type": "execute_result"
    }
   ],
   "source": [
    "structure_master=[]\n",
    "valid_ids=[]\n",
    "\n",
    "for structure in structures :\n",
    "    for x in structure :\n",
    "        if x.ligand != 0 and x.DFG == 'in' and x.resolution <= 3 and x.quality_score >= 6:\n",
    "            structure_master.append(x)\n",
    "            valid_ids.append(x.structure_ID)\n",
    "len(structure_master)      "
   ]
  },
  {
   "cell_type": "code",
   "execution_count": 369,
   "id": "80dd1b32-d81c-42fc-bde8-b5a0dc7805ac",
   "metadata": {},
   "outputs": [],
   "source": [
    "pdb_block=KLIFS_CLIENT.Structures.get_structure_get_pdb_complex(structure_ID=structure_master[0].structure_ID).response().result"
   ]
  },
  {
   "cell_type": "code",
   "execution_count": null,
   "id": "fe042d05-cae3-45ba-9cfb-330ba7362c19",
   "metadata": {},
   "outputs": [],
   "source": [
    "#PLIP INTERACTION EXTRACTION"
   ]
  },
  {
   "cell_type": "code",
   "execution_count": 372,
   "id": "acfc756e-d7a0-484c-b23a-7451b2a4bdf1",
   "metadata": {},
   "outputs": [],
   "source": [
    "#storing pdb_block temporarily as pdb_file for passing to load_pdb\n",
    "def store_pdb_block_as_file(pdb_block, file_path):\n",
    "    with open(file_path, 'w') as pdb_file:\n",
    "        pdb_file.write(pdb_block)\n",
    "file_path = 'temp.pdb'\n",
    "store_pdb_block_as_file(pdb_block, file_path)"
   ]
  },
  {
   "cell_type": "code",
   "execution_count": null,
   "id": "2ba4d258-1cdf-45ec-ab2e-7ab7bef67364",
   "metadata": {},
   "outputs": [],
   "source": [
    "protlig= PDBComplex()\n",
    "protlig.load_pdb(file_path)\n",
    "protlig.ligands"
   ]
  },
  {
   "cell_type": "code",
   "execution_count": 50,
   "id": "03c1b47b-2366-4a65-b95b-a8e45ef15c8d",
   "metadata": {},
   "outputs": [],
   "source": [
    "for ligand in protlig.ligands:\n",
    "    protlig.characterize_complex(ligand)"
   ]
  },
  {
   "cell_type": "code",
   "execution_count": 56,
   "id": "aa268949-531e-4b3d-a66e-74d70d024c48",
   "metadata": {},
   "outputs": [
    {
     "data": {
      "text/plain": [
       "dict_items([('SEP:B:676', <plip.structure.preparation.PLInteraction object at 0x7fe9fe1b8fa0>), ('SEP:B:695', <plip.structure.preparation.PLInteraction object at 0x7fe9fe08dfa0>), ('Q3L:B:801', <plip.structure.preparation.PLInteraction object at 0x7fe9fe040f40>)])"
      ]
     },
     "execution_count": 56,
     "metadata": {},
     "output_type": "execute_result"
    }
   ],
   "source": [
    "protlig.interaction_sets.items()"
   ]
  },
  {
   "cell_type": "code",
   "execution_count": 59,
   "id": "dc4f2867-4fa4-4a88-8b92-7e93aaebd51d",
   "metadata": {},
   "outputs": [],
   "source": [
    "def retrieve_plip_interactions(pdb_file):\n",
    "    \"\"\"\n",
    "    Retrieves the interactions from PLIP.\n",
    "\n",
    "    Parameters\n",
    "    ----------\n",
    "    pdb_file :\n",
    "        The PDB file of the complex.\n",
    "\n",
    "    Returns\n",
    "    -------\n",
    "    dict :\n",
    "        A dictionary of the binding sites and the interactions.\n",
    "    \"\"\"\n",
    "    protlig = PDBComplex()\n",
    "    protlig.load_pdb(pdb_file)  # load the pdb file\n",
    "    for ligand in protlig.ligands:\n",
    "        protlig.characterize_complex(ligand)  # find ligands and analyze interactions\n",
    "    sites = {}\n",
    "    # loop over binding sites\n",
    "    for key, site in sorted(protlig.interaction_sets.items()):\n",
    "        binding_site = BindingSiteReport(site)  # collect data about interactions\n",
    "        # tuples of *_features and *_info will be converted to pandas DataFrame\n",
    "        keys = (\n",
    "            \"hydrophobic\",\n",
    "            \"hbond\",\n",
    "            \"waterbridge\",\n",
    "            \"saltbridge\",\n",
    "            \"pistacking\",\n",
    "            \"pication\",\n",
    "            \"halogen\",\n",
    "            \"metal\",\n",
    "        )\n",
    "        # interactions is a dictionary which contains relevant information for each\n",
    "        # of the possible interactions: hydrophobic, hbond, etc. in the considered\n",
    "        # binding site. Each interaction contains a list with\n",
    "        # 1. the features of that interaction, e.g. for hydrophobic:\n",
    "        # ('RESNR', 'RESTYPE', ..., 'LIGCOO', 'PROTCOO')\n",
    "        # 2. information for each of these features, e.g. for hydrophobic\n",
    "        # (residue nb, residue type,..., ligand atom 3D coord., protein atom 3D coord.)\n",
    "        interactions = {\n",
    "            k: [getattr(binding_site, k + \"_features\")] + getattr(binding_site, k + \"_info\")\n",
    "            for k in keys\n",
    "        }\n",
    "        sites[key] = interactions\n",
    "    return sites"
   ]
  },
  {
   "cell_type": "code",
   "execution_count": 60,
   "id": "53acf6d6-987b-4227-ba5f-91985bee2efe",
   "metadata": {},
   "outputs": [],
   "source": [
    "interactions_by_site = retrieve_plip_interactions(file_path)"
   ]
  },
  {
   "cell_type": "code",
   "execution_count": 4,
   "id": "9db224ff-af57-454d-9911-f7ddac9f900c",
   "metadata": {},
   "outputs": [],
   "source": [
    "#DEFINING DICTIONARIES WITH PROTEIN RESIDUE-LIG ATOM INTERACTIONS & INDEXES"
   ]
  },
  {
   "cell_type": "code",
   "execution_count": 61,
   "id": "0d6dcedf-0228-45b3-9674-f2ef6ed01372",
   "metadata": {},
   "outputs": [
    {
     "name": "stdout",
     "output_type": "stream",
     "text": [
      "Number of binding sites detected : 3\n",
      "with dict_keys(['Q3L:B:801', 'SEP:B:676', 'SEP:B:695'])\n"
     ]
    }
   ],
   "source": [
    "print(\n",
    "    f\"Number of binding sites detected : \"\n",
    "    f\"{len(interactions_by_site)}\\n\"\n",
    "    f\"with {interactions_by_site.keys()}\"\n",
    ")"
   ]
  },
  {
   "cell_type": "code",
   "execution_count": 62,
   "id": "5f8895b6-1bce-4185-b90a-41ae479c180c",
   "metadata": {},
   "outputs": [
    {
     "name": "stdout",
     "output_type": "stream",
     "text": [
      "Q3L:B:801\n"
     ]
    }
   ],
   "source": [
    "index_of_selected_site = 0\n",
    "selected_site = list(interactions_by_site.keys())[index_of_selected_site]\n",
    "print(selected_site)"
   ]
  },
  {
   "cell_type": "code",
   "execution_count": 85,
   "id": "2b8bc32b-5522-45ba-993a-4a247329cb10",
   "metadata": {},
   "outputs": [
    {
     "data": {
      "text/plain": [
       "dict_keys(['hydrophobic', 'hbond', 'waterbridge', 'saltbridge', 'pistacking', 'pication', 'halogen', 'metal'])"
      ]
     },
     "execution_count": 85,
     "metadata": {},
     "output_type": "execute_result"
    }
   ],
   "source": [
    "interactions_by_site[selected_site].keys()"
   ]
  },
  {
   "cell_type": "code",
   "execution_count": 97,
   "id": "ab2d8752-288f-41a6-b81f-14bdd0f0fcdd",
   "metadata": {},
   "outputs": [
    {
     "data": {
      "text/plain": [
       "{2613: 394, 2623: 394, 2604: 521}"
      ]
     },
     "execution_count": 97,
     "metadata": {},
     "output_type": "execute_result"
    }
   ],
   "source": [
    "hydrophobic_interactions={}\n",
    "for i in range(1,len(interactions_by_site[selected_site]['hydrophobic'])):\n",
    "    hydrophobic_interactions[interactions_by_site[selected_site]['hydrophobic'][i][7]]=interactions_by_site[selected_site]['hydrophobic'][i][0]\n",
    "hydrophobic_interactions"
   ]
  },
  {
   "cell_type": "code",
   "execution_count": 105,
   "id": "6e83f505-5ef5-42a2-a9e6-991a25d89561",
   "metadata": {},
   "outputs": [
    {
     "data": {
      "text/plain": [
       "{2617: 461, 2616: 459, 2601: 508}"
      ]
     },
     "execution_count": 105,
     "metadata": {},
     "output_type": "execute_result"
    }
   ],
   "source": [
    "hbond_interactions={}\n",
    "for i in range(1,len(interactions_by_site[selected_site]['hbond'])):\n",
    "    if interactions_by_site[selected_site]['hbond'][i][10]==True:\n",
    "        hbond_interactions[interactions_by_site[selected_site]['hbond'][i][13]]=interactions_by_site[selected_site]['hbond'][i][0]\n",
    "    else : \n",
    "        hbond_interactions[interactions_by_site[selected_site]['hbond'][i][11]]=interactions_by_site[selected_site]['hbond'][i][0]\n",
    "hbond_interactions"
   ]
  },
  {
   "cell_type": "code",
   "execution_count": 106,
   "id": "31c21513-dbf0-40e5-8b43-73381ac5a138",
   "metadata": {},
   "outputs": [
    {
     "data": {
      "text/plain": [
       "{}"
      ]
     },
     "execution_count": 106,
     "metadata": {},
     "output_type": "execute_result"
    }
   ],
   "source": [
    "waterbridge_interactions={}\n",
    "for i in range(1,len(interactions_by_site[selected_site]['waterbridge'])):\n",
    "    if interactions_by_site[selected_site]['waterbridge'][i][10]==True:\n",
    "        waterbridge_interactions[interactions_by_site[selected_site]['waterbridge'][i][13]]=interactions_by_site[selected_site]['waterbridge'][i][0]\n",
    "    else : \n",
    "        waterbridge_interactions[interactions_by_site[selected_site]['waterbridge'][i][11]]=interactions_by_site[selected_site]['waterbridge'][i][0]\n",
    "waterbridge_interactions"
   ]
  },
  {
   "cell_type": "code",
   "execution_count": 110,
   "id": "42fbfe85-6fa8-4eae-b98c-0432a649f3d7",
   "metadata": {},
   "outputs": [
    {
     "data": {
      "text/plain": [
       "{'2601': 508}"
      ]
     },
     "execution_count": 110,
     "metadata": {},
     "output_type": "execute_result"
    }
   ],
   "source": [
    "saltbridge_interactions={}\n",
    "for i in range(1,len(interactions_by_site[selected_site]['saltbridge'])):\n",
    "    saltbridge_interactions[interactions_by_site[selected_site]['saltbridge'][i][10]]=interactions_by_site[selected_site]['saltbridge'][i][0]\n",
    "saltbridge_interactions"
   ]
  },
  {
   "cell_type": "code",
   "execution_count": 112,
   "id": "0463d9ad-5690-4205-876a-9392c98730c6",
   "metadata": {},
   "outputs": [],
   "source": [
    "interactions_list_master={'hydrophobic':hydrophobic_interactions, 'hbond':hbond_interactions, 'waterbridge':waterbridge_interactions, 'saltbridge':saltbridge_interactions}\n"
   ]
  },
  {
   "cell_type": "code",
   "execution_count": 113,
   "id": "0680a230-a561-45f3-9c6b-f6ecec1e288c",
   "metadata": {},
   "outputs": [
    {
     "data": {
      "text/plain": [
       "{'hydrophobic': {2613: 394, 2623: 394, 2604: 521},\n",
       " 'hbond': {2617: 461, 2616: 459, 2601: 508},\n",
       " 'waterbridge': {},\n",
       " 'saltbridge': {'2601': 508}}"
      ]
     },
     "execution_count": 113,
     "metadata": {},
     "output_type": "execute_result"
    }
   ],
   "source": [
    "interactions_list_master"
   ]
  },
  {
   "cell_type": "code",
   "execution_count": null,
   "id": "086fee87-f3e8-44cc-a646-bb5ee92fb8f4",
   "metadata": {},
   "outputs": [],
   "source": [
    "#FRAGMENT EXTRACTION - RDKIT"
   ]
  },
  {
   "cell_type": "code",
   "execution_count": 373,
   "id": "d6a998d3-8554-42e6-9c07-344f6af2f808",
   "metadata": {},
   "outputs": [
    {
     "name": "stdout",
     "output_type": "stream",
     "text": [
      "saving <Chain id=A> <Residue  MN het=H_ MN resseq=1 icode= >\n",
      "saving <Chain id=A> <Residue WFE het=H_WFE resseq=999 icode= >\n"
     ]
    }
   ],
   "source": [
    "def is_het(residue):\n",
    "    res = residue.id[0]\n",
    "    return res != \" \" and res != \"W\"\n",
    "\n",
    "\n",
    "class ResidueSelect(Select):\n",
    "    def __init__(self, chain, residue):\n",
    "        self.chain = chain\n",
    "        self.residue = residue\n",
    "\n",
    "    def accept_chain(self, chain):\n",
    "        return chain.id == self.chain.id\n",
    "\n",
    "    def accept_residue(self, residue):\n",
    "        \"\"\" Recognition of heteroatoms - Remove water molecules \"\"\"\n",
    "        return residue == self.residue and is_het(residue)\n",
    "\n",
    "\n",
    "def extract_ligands(path):\n",
    "    \"\"\" Extraction of the heteroatoms of .pdb files \"\"\"\n",
    "    pdb = PDBParser().get_structure(pdb_id,file_path)\n",
    "    io = PDBIO()\n",
    "    io.set_structure(pdb)\n",
    "    i = 0\n",
    "    for model in pdb:\n",
    "        for chain in model:\n",
    "            for residue in chain:\n",
    "                if not is_het(residue):\n",
    "                    continue\n",
    "                print(f\"saving {chain} {residue}\")\n",
    "                io.save(f\"lig_{pdb_id}_{i}.pdb\", ResidueSelect(chain, residue))\n",
    "                i = i + 1\n",
    "            \n",
    "\n",
    "# Main\n",
    "path = file_path\n",
    "\n",
    "extract_ligands(path)\n"
   ]
  },
  {
   "cell_type": "code",
   "execution_count": 374,
   "id": "4445a111-0df5-442c-b133-b2c0304dc097",
   "metadata": {},
   "outputs": [
    {
     "data": {
      "image/jpeg": "[encoded data removed]",
      "image/png": "[encoded data removed]",
      "text/plain": [
       "<PIL.PngImagePlugin.PngImageFile image mode=RGB size=300x300>"
      ]
     },
     "execution_count": 374,
     "metadata": {},
     "output_type": "execute_result"
    }
   ],
   "source": [
    "ligand_mol_1 = Chem.MolFromPDBFile('lig_3mvh_0.pdb')\n",
    "Draw.MolToImage(ligand_mol_1)"
   ]
  },
  {
   "cell_type": "code",
   "execution_count": 375,
   "id": "8618f1a7-bba0-4f62-9d5e-5dcdd3222b6e",
   "metadata": {},
   "outputs": [
    {
     "data": {
      "image/jpeg": "[encoded data removed]",
      "image/png": "[encoded data removed]",
      "text/plain": [
       "<PIL.PngImagePlugin.PngImageFile image mode=RGB size=300x300>"
      ]
     },
     "execution_count": 375,
     "metadata": {},
     "output_type": "execute_result"
    }
   ],
   "source": [
    "ligand_mol_2 = Chem.MolFromPDBFile('lig_3mvh_1.pdb')\n",
    "Draw.MolToImage(ligand_mol_2)"
   ]
  },
  {
   "cell_type": "code",
   "execution_count": null,
   "id": "e79eb4c4-76e6-41d3-add2-4c44cb85e063",
   "metadata": {},
   "outputs": [],
   "source": [
    "from rdkit.Chem.Draw import IPythonConsole, MolsToGridImage\n",
    "fragment_onbonds=Chem.FragmentOnBonds(ligand_mol_2, bond_list,addDummies=False)"
   ]
  },
  {
   "cell_type": "code",
   "execution_count": 469,
   "id": "27c5fa7a-12d5-4a31-a0e5-82a89a29f700",
   "metadata": {},
   "outputs": [
    {
     "data": {
      "image/png": "[encoded data removed]",
      "text/plain": [
       "<rdkit.Chem.rdchem.Mol at 0x7fe9fc467cf0>"
      ]
     },
     "execution_count": 469,
     "metadata": {},
     "output_type": "execute_result"
    }
   ],
   "source": [
    "ligand_mol_2"
   ]
  },
  {
   "cell_type": "code",
   "execution_count": null,
   "id": "06dc5f83-fe83-41af-a849-5c8231fd2a03",
   "metadata": {},
   "outputs": [],
   "source": [
    "bond_list=[]\n",
    "for bond in mol_2.GetBonds():\n",
    "    if bond.IsInRing()==False:\n",
    "        bond_list.append(bond.GetIdx())\n",
    "        print(bond)\n",
    "bond_list"
   ]
  },
  {
   "cell_type": "code",
   "execution_count": 482,
   "id": "f54a8843-bb33-467f-bc92-f512f8b275c9",
   "metadata": {},
   "outputs": [
    {
     "data": {
      "image/jpeg": "[encoded data removed]",
      "image/png": "[encoded data removed]",
      "text/plain": [
       "<PIL.PngImagePlugin.PngImageFile image mode=RGB size=300x300>"
      ]
     },
     "execution_count": 482,
     "metadata": {},
     "output_type": "execute_result"
    }
   ],
   "source": [
    "Draw.MolToImage(fragment_onbonds)"
   ]
  }
 ],
 "metadata": {
  "environment": {
   "kernel": "teachopencadd",
   "name": "common-gpu.m110",
   "type": "gcloud",
   "uri": "gcr.io/deeplearning-platform-release/base-gpu:m110"
  },
  "kernelspec": {
   "display_name": "teachopencadd",
   "language": "python",
   "name": "teachopencadd"
  },
  "language_info": {
   "codemirror_mode": {
    "name": "ipython",
    "version": 3
   },
   "file_extension": ".py",
   "mimetype": "text/x-python",
   "name": "python",
   "nbconvert_exporter": "python",
   "pygments_lexer": "ipython3",
   "version": "3.9.18"
  }
 },
 "nbformat": 4,
 "nbformat_minor": 5
}
